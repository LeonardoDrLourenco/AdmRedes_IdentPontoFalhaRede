{
  "nbformat": 4,
  "nbformat_minor": 0,
  "metadata": {
    "colab": {
      "provenance": [],
      "authorship_tag": "ABX9TyMN3GIHFpQhdnBvmDpn0A6O",
      "include_colab_link": true
    },
    "kernelspec": {
      "name": "python3",
      "display_name": "Python 3"
    },
    "language_info": {
      "name": "python"
    }
  },
  "cells": [
    {
      "cell_type": "markdown",
      "metadata": {
        "id": "view-in-github",
        "colab_type": "text"
      },
      "source": [
        "<a href=\"https://colab.research.google.com/github/LeonardoDrLourenco/AdmRedes_IdentPontoFalhaRede/blob/main/Identificar_PontodeFalha_Rede.ipynb\" target=\"_parent\"><img src=\"https://colab.research.google.com/assets/colab-badge.svg\" alt=\"Open In Colab\"/></a>"
      ]
    },
    {
      "cell_type": "markdown",
      "source": [
        "# Simulando um ambiente com 6 máquinas em um vetor"
      ],
      "metadata": {
        "id": "ZzHF5yWxLTbz"
      }
    },
    {
      "cell_type": "code",
      "execution_count": 5,
      "metadata": {
        "colab": {
          "base_uri": "https://localhost:8080/"
        },
        "id": "c4T_W7yiIouh",
        "outputId": "0826eed2-35c0-4201-b66c-cc76f2971d1b"
      },
      "outputs": [
        {
          "output_type": "stream",
          "name": "stdout",
          "text": [
            "Status das máquinas: [1, 1, 1, 1, 1, 0]\n",
            "Máquina 6 foi desconectada!\n",
            "\n",
            "----------------------\n",
            "\n",
            "Máquina 6 foi reconectada.\n",
            "Status das máquinas: [1, 1, 1, 1, 1, 1]\n",
            "\n",
            "----------------------\n",
            "\n",
            "Status das máquinas: [1, 1, 0, 1, 1, 1]\n",
            "Máquina 3 foi desconectada!\n",
            "\n",
            "----------------------\n",
            "\n",
            "Máquina 3 foi reconectada.\n",
            "Status das máquinas: [1, 1, 1, 1, 1, 1]\n",
            "\n",
            "----------------------\n",
            "\n",
            "Status das máquinas: [0, 1, 1, 1, 1, 1]\n",
            "Máquina 1 foi desconectada!\n",
            "\n",
            "----------------------\n",
            "\n",
            "Máquina 1 foi reconectada.\n",
            "Status das máquinas: [1, 1, 1, 1, 1, 1]\n",
            "\n",
            "----------------------\n",
            "\n"
          ]
        }
      ],
      "source": [
        "import random\n",
        "import time\n",
        "\n",
        "maquinas = [1, 1, 1, 1, 1, 1]\n",
        "\n",
        "def simular_desconexao(maquinas, tentativas):\n",
        "    for _ in range(tentativas):\n",
        "        index_desconectada = random.randint(0, len(maquinas) - 1)\n",
        "        maquinas[index_desconectada] = 0\n",
        "\n",
        "        print(f\"Status das máquinas: {maquinas}\")\n",
        "        print(f\"Máquina {index_desconectada + 1} foi desconectada!\")\n",
        "        print(\"\\n----------------------\\n\")\n",
        "\n",
        "        time.sleep(2)\n",
        "\n",
        "        maquinas[index_desconectada] = 1\n",
        "        print(f\"Máquina {index_desconectada + 1} foi reconectada.\")\n",
        "        print(f\"Status das máquinas: {maquinas}\")\n",
        "        print(\"\\n----------------------\\n\")\n",
        "\n",
        "        time.sleep(2)\n",
        "\n",
        "simular_desconexao(maquinas, 3)"
      ]
    },
    {
      "cell_type": "markdown",
      "source": [
        "# Código que realiza o ping em um endereço de ip e verifica se há respostas, imaginando que esses ips são fixos nas máquinas e que eu já sei quais são.\n",
        "### Baseado no desenho feito na lousa em sala de aula."
      ],
      "metadata": {
        "id": "HwOSxe8DLclN"
      }
    },
    {
      "cell_type": "code",
      "source": [
        "import os\n",
        "import platform\n",
        "\n",
        "def ping(host):\n",
        "\n",
        "    param = \"-n\" if platform.system().lower() == \"windows\" else \"-c\"\n",
        "    command = f\"ping {param} 1 {host}\"\n",
        "\n",
        "    response = os.system(command)\n",
        "\n",
        "    if response == 0:\n",
        "        return f\"{host} está online.\"\n",
        "    else:\n",
        "        return f\"{host} está offline ou inacessível.\"\n",
        "\n",
        "ips_para_verificar = [\n",
        "    \"10.1.1.16\",  # Switch A\n",
        "    \"10.1.1.17\",  # Máquina 1 no Switch A\n",
        "    \"10.1.1.18\",  # Máquina 2 no Switch A\n",
        "    \"10.1.1.19\",  # Máquina 3 no Switch A\n",
        "    \"10.1.1.15\",  # Switch B\n",
        "    \"10.1.1.20\",  # Máquina 1 no Switch B\n",
        "    \"10.1.1.21\",  # Máquina 2 no Switch B\n",
        "    \"10.1.1.22\",  # Máquina 3 no Switch B\n",
        "    \"10.1.1.75\",  # Roteador lado esq\n",
        "    \"10.1.0.75\",  # Roteador lado dir\n",
        "    \"10.1.0.2\"    # Switch C\n",
        "    \"10.1.0.1\",   # Servidor\n",
        "]\n",
        "\n",
        "\n",
        "# Verificando conectividade de cada host\n",
        "for ip in ips_para_verificar:\n",
        "    resultado = ping(ip)\n",
        "    print(resultado)\n"
      ],
      "metadata": {
        "colab": {
          "base_uri": "https://localhost:8080/"
        },
        "id": "B52vOeHyLsUT",
        "outputId": "a88540aa-720a-4a20-dbdf-6ba01dca3329"
      },
      "execution_count": 6,
      "outputs": [
        {
          "output_type": "stream",
          "name": "stdout",
          "text": [
            "10.1.1.16 está offline ou inacessível.\n",
            "10.1.1.17 está offline ou inacessível.\n",
            "10.1.1.18 está offline ou inacessível.\n",
            "10.1.1.19 está offline ou inacessível.\n",
            "10.1.1.15 está offline ou inacessível.\n",
            "10.1.1.20 está offline ou inacessível.\n",
            "10.1.1.21 está offline ou inacessível.\n",
            "10.1.1.22 está offline ou inacessível.\n",
            "10.1.1.75 está offline ou inacessível.\n",
            "10.1.0.75 está offline ou inacessível.\n",
            "10.1.0.210.1.0.1 está offline ou inacessível.\n"
          ]
        }
      ]
    },
    {
      "cell_type": "markdown",
      "source": [
        "# Agora a junção dos dois códigos simulando a desconexão, utilizando esses ips"
      ],
      "metadata": {
        "id": "8lWgeP0vOhw4"
      }
    },
    {
      "cell_type": "code",
      "source": [
        "import random\n",
        "import time\n",
        "\n",
        "ips_para_verificar = [\n",
        "    \"10.1.1.16\",  # Switch A\n",
        "    \"10.1.1.17\",  # Máquina 1 no Switch A\n",
        "    \"10.1.1.18\",  # Máquina 2 no Switch A\n",
        "    \"10.1.1.19\",  # Máquina 3 no Switch A\n",
        "    \"10.1.1.15\",  # Switch B\n",
        "    \"10.1.1.20\",  # Máquina 1 no Switch B\n",
        "    \"10.1.1.21\",  # Máquina 2 no Switch B\n",
        "    \"10.1.1.22\",  # Máquina 3 no Switch B\n",
        "    \"10.1.1.75\",  # Roteador lado esq\n",
        "    \"10.1.0.75\",  # Roteador lado dir\n",
        "    \"10.1.0.2\",   # Switch C\n",
        "    \"10.1.0.1\"    # Servidor\n",
        "]\n",
        "\n",
        "status_maquinas = [1, 1, 1, 1, 1, 1, 1, 1, 1, 1, 1, 1]\n",
        "\n",
        "for _ in range(3):\n",
        "    print(\"\\nStatus das máquinas:\")\n",
        "\n",
        "    for i, status in enumerate(status_maquinas):\n",
        "        print(f\"Máquina {i+1} (IP: {ips_para_verificar[i]}): {'Conectada' if status == 1 else 'Desconectada'}\")\n",
        "\n",
        "    maquina_desconectada = random.randint(0, len(status_maquinas) - 1)\n",
        "    status_maquinas[maquina_desconectada] = 0\n",
        "\n",
        "    time.sleep(1)\n",
        "    print(f\"\\nMáquina {maquina_desconectada + 1} (IP: {ips_para_verificar[maquina_desconectada]}) foi desconectada.\")\n",
        "\n",
        "    time.sleep(2)"
      ],
      "metadata": {
        "colab": {
          "base_uri": "https://localhost:8080/"
        },
        "id": "t_905Um3OrgH",
        "outputId": "f94a13ac-33c0-494f-e2ba-b89645f5324d"
      },
      "execution_count": 7,
      "outputs": [
        {
          "output_type": "stream",
          "name": "stdout",
          "text": [
            "\n",
            "Status das máquinas:\n",
            "Máquina 1 (IP: 10.1.1.16): Conectada\n",
            "Máquina 2 (IP: 10.1.1.17): Conectada\n",
            "Máquina 3 (IP: 10.1.1.18): Conectada\n",
            "Máquina 4 (IP: 10.1.1.19): Conectada\n",
            "Máquina 5 (IP: 10.1.1.15): Conectada\n",
            "Máquina 6 (IP: 10.1.1.20): Conectada\n",
            "Máquina 7 (IP: 10.1.1.21): Conectada\n",
            "Máquina 8 (IP: 10.1.1.22): Conectada\n",
            "Máquina 9 (IP: 10.1.1.75): Conectada\n",
            "Máquina 10 (IP: 10.1.0.75): Conectada\n",
            "Máquina 11 (IP: 10.1.0.2): Conectada\n",
            "Máquina 12 (IP: 10.1.0.1): Conectada\n",
            "\n",
            "Máquina 7 (IP: 10.1.1.21) foi desconectada.\n",
            "\n",
            "Status das máquinas:\n",
            "Máquina 1 (IP: 10.1.1.16): Conectada\n",
            "Máquina 2 (IP: 10.1.1.17): Conectada\n",
            "Máquina 3 (IP: 10.1.1.18): Conectada\n",
            "Máquina 4 (IP: 10.1.1.19): Conectada\n",
            "Máquina 5 (IP: 10.1.1.15): Conectada\n",
            "Máquina 6 (IP: 10.1.1.20): Conectada\n",
            "Máquina 7 (IP: 10.1.1.21): Desconectada\n",
            "Máquina 8 (IP: 10.1.1.22): Conectada\n",
            "Máquina 9 (IP: 10.1.1.75): Conectada\n",
            "Máquina 10 (IP: 10.1.0.75): Conectada\n",
            "Máquina 11 (IP: 10.1.0.2): Conectada\n",
            "Máquina 12 (IP: 10.1.0.1): Conectada\n",
            "\n",
            "Máquina 11 (IP: 10.1.0.2) foi desconectada.\n",
            "\n",
            "Status das máquinas:\n",
            "Máquina 1 (IP: 10.1.1.16): Conectada\n",
            "Máquina 2 (IP: 10.1.1.17): Conectada\n",
            "Máquina 3 (IP: 10.1.1.18): Conectada\n",
            "Máquina 4 (IP: 10.1.1.19): Conectada\n",
            "Máquina 5 (IP: 10.1.1.15): Conectada\n",
            "Máquina 6 (IP: 10.1.1.20): Conectada\n",
            "Máquina 7 (IP: 10.1.1.21): Desconectada\n",
            "Máquina 8 (IP: 10.1.1.22): Conectada\n",
            "Máquina 9 (IP: 10.1.1.75): Conectada\n",
            "Máquina 10 (IP: 10.1.0.75): Conectada\n",
            "Máquina 11 (IP: 10.1.0.2): Desconectada\n",
            "Máquina 12 (IP: 10.1.0.1): Conectada\n",
            "\n",
            "Máquina 7 (IP: 10.1.1.21) foi desconectada.\n"
          ]
        }
      ]
    }
  ]
}